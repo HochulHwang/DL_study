{
 "cells": [
  {
   "cell_type": "code",
   "execution_count": 23,
   "metadata": {},
   "outputs": [],
   "source": [
    "import tensorflow as tf\n",
    "import numpy as np"
   ]
  },
  {
   "cell_type": "code",
   "execution_count": 24,
   "metadata": {},
   "outputs": [
    {
     "name": "stdout",
     "output_type": "stream",
     "text": [
      "(2, 3)\n",
      "(3,)\n",
      "(3, 1)\n",
      "matmul result:\n",
      " Tensor(\"MatMul_3:0\", shape=(2, 1), dtype=int32)\n"
     ]
    }
   ],
   "source": [
    "# 2X3 matrix\n",
    "c = tf.constant([[1,2,3],\n",
    "                 [4,5,6]])\n",
    "#print(\"Python List imput: {}\".format(c.get_shape()))\n",
    "# 2X2X3 tensor\n",
    "c = tf.constant(np.array([\n",
    "                [[1,2,3],\n",
    "                 [4,5,6]],\n",
    "    \n",
    "                [[1,1,1],\n",
    "                 [2,2,2]]\n",
    "                ]))\n",
    "#print(\"3d NumPy array input: {}\".format(c.get_shape()))\n",
    "\n",
    "# matmul (Ax = b)\n",
    "A = tf.constant([[1,2,3],\n",
    "                 [4,5,6]])\n",
    "print(A.get_shape())\n",
    "x = tf.constant([1,0,1])\n",
    "print(x.get_shape())\n",
    "# add one dimension to match the 2 dimension \n",
    "x = tf.expand_dims(x,1)\n",
    "print(x.get_shape())\n",
    "b = tf.matmul(A,x)\n",
    "sess = tf.InteractiveSession()\n",
    "print('matmul result:\\n {}'.format(tf.matmul(A,x)))\n",
    "sess.close()"
   ]
  }
 ],
 "metadata": {
  "kernelspec": {
   "display_name": "Python 3",
   "language": "python",
   "name": "python3"
  },
  "language_info": {
   "codemirror_mode": {
    "name": "ipython",
    "version": 3
   },
   "file_extension": ".py",
   "mimetype": "text/x-python",
   "name": "python",
   "nbconvert_exporter": "python",
   "pygments_lexer": "ipython3",
   "version": "3.7.2"
  }
 },
 "nbformat": 4,
 "nbformat_minor": 2
}
