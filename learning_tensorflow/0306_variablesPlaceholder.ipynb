{
 "cells": [
  {
   "cell_type": "code",
   "execution_count": 55,
   "metadata": {},
   "outputs": [],
   "source": [
    "import tensorflow as tf\n",
    "import numpy as np"
   ]
  },
  {
   "cell_type": "code",
   "execution_count": 56,
   "metadata": {},
   "outputs": [
    {
     "name": "stdout",
     "output_type": "stream",
     "text": [
      "pre run: \n",
      "<tf.Variable 'var_22:0' shape=(1, 5) dtype=float32_ref>\n",
      "\n",
      "post run: \n",
      "[[ 0.13915001 -0.03885157 -1.4360785  -1.3286403  -1.4155892 ]]\n"
     ]
    }
   ],
   "source": [
    "init_val = tf.random_normal((1,5),0,1)\n",
    "var = tf.Variable(init_val, name='var')\n",
    "print(\"pre run: \\n{}\".format(var))\n",
    "\n",
    "init = tf.global_variables_initializer()\n",
    "with tf.Session() as sess:\n",
    "    sess.run(init)\n",
    "    post_var = sess.run(var)\n",
    "\n",
    "print(\"\\npost run: \\n{}\".format(post_var))"
   ]
  },
  {
   "cell_type": "code",
   "execution_count": 57,
   "metadata": {},
   "outputs": [
    {
     "name": "stdout",
     "output_type": "stream",
     "text": [
      "x_data = [[-0.72833914  1.70812011  0.16346255 -0.51906764 -0.62810474 -0.3074847\n",
      "  -0.33348209 -0.76915605 -0.56534595 -0.84080297]\n",
      " [ 0.53796552 -0.02942149 -0.05394007 -0.37848784 -0.42528032  0.06802265\n",
      "  -1.15084092  1.58586123  0.11558784 -0.68094979]\n",
      " [ 1.31915374 -1.2956952   0.8184129  -0.04690371 -0.76228969  0.87281849\n",
      "   1.3218593   0.50757472 -0.65590114 -0.66618515]\n",
      " [-0.39609985 -0.22438195  2.28693598  0.88760929 -0.33485486  0.32823373\n",
      "   0.12804818 -3.05708928 -0.88844571 -0.71206701]\n",
      " [ 0.76362875 -0.91158245  1.37753247  0.63768098  1.37991704 -0.1896461\n",
      "   0.82939038  1.85945695  0.45929341  0.71495654]]\n",
      "w_data = [[ 0.78751772]\n",
      " [ 0.84212629]\n",
      " [-0.85463387]\n",
      " [ 0.87458487]\n",
      " [ 0.26488941]\n",
      " [-0.1862071 ]\n",
      " [-0.33674571]\n",
      " [-0.49048935]\n",
      " [ 1.24651086]\n",
      " [ 0.47742168]]\n",
      "x = Tensor(\"Placeholder:0\", shape=(5, 10), dtype=float32)\n",
      "outs = -1.4544848203659058\n"
     ]
    }
   ],
   "source": [
    "# placeholder example #\n",
    "x_data = np.random.randn(5,10)\n",
    "w_data = np.random.randn(10,1)\n",
    "# print(\"x_data = {}\".format(x_data))\n",
    "# print(\"w_data = {}\".format(w_data))\n",
    "\n",
    "with tf.Graph().as_default():\n",
    "    x = tf.placeholder(tf.float32,shape=(5,10))\n",
    "    # print(\"x = {}\".format(x))\n",
    "    w = tf.placeholder(tf.float32,shape=(10,1))\n",
    "    b = tf.fill((5,1),-1.)\n",
    "    xw = tf.matmul(x,w)\n",
    "    xwb = xw+b\n",
    "    s = tf.reduce_max(xwb)\n",
    "    with tf.Session() as sess:\n",
    "        outs = sess.run(s,feed_dict={x: x_data,w: w_data})\n",
    "\n",
    "    print(\"outs = {}\".format(outs))"
   ]
  }
 ],
 "metadata": {
  "kernelspec": {
   "display_name": "Python 3",
   "language": "python",
   "name": "python3"
  },
  "language_info": {
   "codemirror_mode": {
    "name": "ipython",
    "version": 3
   },
   "file_extension": ".py",
   "mimetype": "text/x-python",
   "name": "python",
   "nbconvert_exporter": "python",
   "pygments_lexer": "ipython3",
   "version": "3.7.2"
  }
 },
 "nbformat": 4,
 "nbformat_minor": 2
}
